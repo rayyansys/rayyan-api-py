{
 "cells": [
  {
   "cell_type": "markdown",
   "metadata": {},
   "source": [
    "# Rayyan SDK for Python\n",
    "\n",
    "## Installation\n",
    "\n",
    "After installing the package you can import it and create a `rayyan` instance as follows:\n",
    "\n",
    "> Note: the python package is not yet available on PyPI, so you need to install it from the source code."
   ]
  },
  {
   "cell_type": "code",
   "execution_count": null,
   "metadata": {},
   "outputs": [],
   "source": [
    "from pprint import pprint\n",
    "from rayyan import Rayyan\n",
    "\n",
    "rayyan = Rayyan(\"creds.json\")"
   ]
  },
  {
   "cell_type": "markdown",
   "metadata": {},
   "source": [
    "The `creds.json` file should contain the following:\n",
    "\n",
    "```json\n",
    "{\n",
    "    \"access_token\": \"...\",\n",
    "    \"refresh_token\": \"...\"\n",
    "}\n",
    "```\n",
    "\n",
    "A valid file can be downloaded by signing in to Rayyan then going to My Account.\n",
    "\n",
    "> Note: this is not supported yet in production for all users."
   ]
  },
  {
   "cell_type": "markdown",
   "metadata": {},
   "source": [
    "## Accessing signed-in user data\n",
    "\n",
    "The simplest SDK call is the one that retrieves the signed-in user's data. This is done by calling the `get_info` method of `User` object:"
   ]
  },
  {
   "cell_type": "code",
   "execution_count": null,
   "metadata": {},
   "outputs": [],
   "source": [
    "from rayyan.user import User\n",
    "\n",
    "user = User(rayyan).get_info()\n",
    "\n",
    "# Remove request_token before printing\n",
    "user.pop('request_token', None)\n",
    "# Remove some other fields\n",
    "user.pop('subscription', None)\n",
    "# user.pop('feature_flags', None)\n",
    "pprint(user)"
   ]
  },
  {
   "cell_type": "markdown",
   "metadata": {},
   "source": [
    "## Retrieving the list of all reviews"
   ]
  },
  {
   "cell_type": "code",
   "execution_count": null,
   "metadata": {},
   "outputs": [],
   "source": [
    "from rayyan.review import Review\n",
    "rayyan_review = Review(rayyan)\n",
    "reviews = rayyan_review.get_all()\n",
    "pprint(reviews)\n",
    "print(f'Found {len(reviews[\"owned_reviews\"])} owned reviews and {len(reviews[\"collab_reviews\"])} shared reviews.')"
   ]
  },
  {
   "cell_type": "markdown",
   "metadata": {},
   "source": [
    "## Working on the first owned review\n",
    "\n",
    "### Printing some review key information"
   ]
  },
  {
   "cell_type": "code",
   "execution_count": null,
   "metadata": {},
   "outputs": [],
   "source": [
    "my_review = reviews['owned_reviews'][0]\n",
    "# pprint(my_review)\n",
    "print(f\"Here is the first review in the list of owned reviews: '{my_review['title']}' created on '{my_review['created_at']}' and it has a total of {my_review['total_articles']} articles.\")\n"
   ]
  },
  {
   "cell_type": "markdown",
   "metadata": {},
   "source": [
    "### Listing the first 15 articles sorted by title"
   ]
  },
  {
   "cell_type": "code",
   "execution_count": null,
   "metadata": {},
   "outputs": [],
   "source": [
    "review_id = my_review['rayyan_id']\n",
    "result_params = {\n",
    "    \"start\": 0,\n",
    "    \"length\": 15,\n",
    "    \"order[0][column]\": 5,\n",
    "    \"order[0][dir]\": \"asc\"\n",
    "    # ... other query parameters ...\n",
    "}\n",
    "review_results = rayyan_review.results(review_id, result_params)\n",
    "print(f'Returned {len(review_results[\"data\"])} record(s) matching {review_results[\"recordsFiltered\"]} record(s) out of {review_results[\"recordsTotal\"]} in total')\n"
   ]
  },
  {
   "cell_type": "markdown",
   "metadata": {},
   "source": [
    "### Printing article titles and authors"
   ]
  },
  {
   "cell_type": "code",
   "execution_count": null,
   "metadata": {},
   "outputs": [],
   "source": [
    "for index, result in enumerate(review_results['data']):\n",
    "    print(f'{index+1}: {result[\"title\"]}')\n",
    "    print(f'    Authors: {\", \".join(result[\"authors\"])}')"
   ]
  },
  {
   "cell_type": "markdown",
   "metadata": {},
   "source": [
    "### Including the first article"
   ]
  },
  {
   "cell_type": "code",
   "execution_count": null,
   "metadata": {},
   "outputs": [],
   "source": [
    "my_article = review_results['data'][0]\n",
    "article_id = my_article['id']\n",
    "customization_plan = {\n",
    "    \"included\": 1\n",
    "}\n",
    "rayyan_review.customize(review_id, article_id, customization_plan)\n",
    "print(f'Included article with title: {my_article[\"title\"]}')"
   ]
  },
  {
   "cell_type": "markdown",
   "metadata": {},
   "source": [
    "### Filtering by included articles"
   ]
  },
  {
   "cell_type": "code",
   "execution_count": null,
   "metadata": {},
   "outputs": [],
   "source": [
    "result_params = {\n",
    "    \"start\": 0,\n",
    "    \"length\": 20,\n",
    "    \"extra[mode]\": \"included\"\n",
    "}\n",
    "included_results = rayyan_review.results(review_id, result_params)\n",
    "print(f'Returned {len(included_results[\"data\"])} record(s) matching {included_results[\"recordsFiltered\"]} record(s) out of {included_results[\"recordsTotal\"]} in total:')\n",
    "for index, result in enumerate(included_results['data']):\n",
    "    print(f'{index+1}: {result[\"title\"]}')\n",
    "    print(f'    Authors: {\", \".join(result[\"authors\"])}')\n"
   ]
  },
  {
   "cell_type": "markdown",
   "metadata": {},
   "source": [
    "### Excluding the next 5 articles"
   ]
  },
  {
   "cell_type": "code",
   "execution_count": null,
   "metadata": {},
   "outputs": [],
   "source": [
    "my_articles = review_results['data'][1:6]\n",
    "customization_plan = {\n",
    "    \"included\": -1\n",
    "}\n",
    "for article in my_articles:\n",
    "    article_id = article['id']\n",
    "    print(f'Excluding article {article_id}...')\n",
    "    rayyan_review.customize(review_id, article_id, customization_plan)\n",
    "print(f'Excluded {len(my_articles)} articles from review {review_id}.')"
   ]
  },
  {
   "cell_type": "markdown",
   "metadata": {},
   "source": [
    "### Excluding the next 3 articles in bluk"
   ]
  },
  {
   "cell_type": "code",
   "execution_count": null,
   "metadata": {},
   "outputs": [],
   "source": [
    "my_articles = review_results['data'][7:10]\n",
    "rayyan_review.bulk_customizations(review_id, \"included\", -1, (\",\").join(map(str,[a['id'] for a in my_articles])))"
   ]
  },
  {
   "cell_type": "markdown",
   "metadata": {},
   "source": [
    "### Getting the inclusion counts facet for the review"
   ]
  },
  {
   "cell_type": "code",
   "execution_count": null,
   "metadata": {},
   "outputs": [],
   "source": [
    "facet_params = {\n",
    "    \"facets[inclusion_counts]\": \"1\"\n",
    "}\n",
    "facet_info = rayyan_review.facets(review_id, facet_params)\n",
    "pprint(facet_info)"
   ]
  },
  {
   "cell_type": "markdown",
   "metadata": {},
   "source": [
    "### Getting Customizations for `inclusion_decisions` and `labels` of the First 15 Articles Sorted by Title"
   ]
  },
  {
   "cell_type": "code",
   "execution_count": null,
   "metadata": {},
   "outputs": [],
   "source": [
    "customization_params = {\n",
    "    \"types[]\": [\"inclusion_decisions\", \"labels\"]\n",
    "}\n",
    "\n",
    "pprint(rayyan_review.get_customizations(review_id, customization_params))"
   ]
  },
  {
   "cell_type": "markdown",
   "metadata": {},
   "source": [
    "### Invite Collaborator to the review"
   ]
  },
  {
   "cell_type": "code",
   "execution_count": null,
   "metadata": {},
   "outputs": [],
   "source": [
    "from rayyan.review_access import ReviewAccess\n",
    "review_access_instance = ReviewAccess(rayyan)\n",
    "\n",
    "invite_confirmation = review_access_instance.invite(review_id, 2, [\"user3@example.com\"], \"Collaboration on data analysis.\")\n",
    "pprint(invite_confirmation)\n"
   ]
  },
  {
   "cell_type": "markdown",
   "metadata": {},
   "source": [
    "### Change Collaborator to a Viewer"
   ]
  },
  {
   "cell_type": "code",
   "execution_count": null,
   "metadata": {},
   "outputs": [],
   "source": [
    "invite_confirmation = review_access_instance.update_access(review_id, 3, [\"user3@example.com\"])\n",
    "pprint(invite_confirmation)\n"
   ]
  },
  {
   "cell_type": "markdown",
   "metadata": {},
   "source": [
    "### Revoke Viewer access"
   ]
  },
  {
   "cell_type": "code",
   "execution_count": null,
   "metadata": {},
   "outputs": [],
   "source": [
    "# invite_confirmation = review_access_instance.update_access(review_id, 3, [\"user3@example.com\"])\n",
    "# pprint(invite_confirmation)\n",
    "my_review_json = rayyan_review.get(review_id)\n",
    "viewr_id = my_review_json['viewers'][0]['id']\n",
    "\n",
    "pprint(review_access_instance.revoke(review_id, viewr_id))\n"
   ]
  },
  {
   "cell_type": "markdown",
   "metadata": {},
   "source": [
    "### Restore Viewer access"
   ]
  },
  {
   "cell_type": "code",
   "execution_count": null,
   "metadata": {},
   "outputs": [],
   "source": [
    "pprint(review_access_instance.restore(review_id, viewr_id))\n",
    "pprint(viewr_id)"
   ]
  },
  {
   "cell_type": "markdown",
   "metadata": {},
   "source": [
    "### Delete Viewer access"
   ]
  },
  {
   "cell_type": "code",
   "execution_count": null,
   "metadata": {},
   "outputs": [],
   "source": [
    "pprint(review_access_instance.delete_access(review_id, viewr_id))"
   ]
  },
  {
   "cell_type": "markdown",
   "metadata": {},
   "source": [
    "## Notes"
   ]
  },
  {
   "cell_type": "markdown",
   "metadata": {},
   "source": [
    "### Create note"
   ]
  },
  {
   "cell_type": "code",
   "execution_count": null,
   "metadata": {},
   "outputs": [],
   "source": [
    "from rayyan.notes import Notes\n",
    "\n",
    "notes_instance = Notes(rayyan)\n",
    "note_id = notes_instance.create_note(review_id, my_articles[0]['id'], text=\"This article needs further analysis.\")\n",
    "print(f'Added a note to article: {my_articles[0][\"title\"]} \\nNote id: {note_id}')\n"
   ]
  },
  {
   "cell_type": "markdown",
   "metadata": {},
   "source": [
    "### Update Note"
   ]
  },
  {
   "cell_type": "code",
   "execution_count": null,
   "metadata": {},
   "outputs": [],
   "source": [
    "response = notes_instance.update_note(review_id, my_articles[0]['id'], note_id, text=\"UPDATED This article needs further analysis.\")\n",
    "print(response)\n"
   ]
  },
  {
   "cell_type": "markdown",
   "metadata": {},
   "source": [
    "### Delete Note"
   ]
  },
  {
   "cell_type": "code",
   "execution_count": null,
   "metadata": {},
   "outputs": [],
   "source": [
    "response = notes_instance.delete_note(review_id, my_articles[0]['id'], note_id)\n",
    "print(response)\n"
   ]
  },
  {
   "cell_type": "markdown",
   "metadata": {},
   "source": [
    "## ThirdPartyAuth"
   ]
  },
  {
   "cell_type": "markdown",
   "metadata": {},
   "source": [
    "### Get ThirdPartyAuth link"
   ]
  },
  {
   "cell_type": "code",
   "execution_count": null,
   "metadata": {},
   "outputs": [],
   "source": [
    "from rayyan.third_party_auth import ThirdPartyAuth\n",
    "from rayyan.conf import MENDELEY\n",
    "\n",
    "third_party_auth_instance = ThirdPartyAuth(rayyan, MENDELEY)\n",
    "auth_link = third_party_auth_instance.get_auth_link()\n",
    "pprint(auth_link)"
   ]
  },
  {
   "cell_type": "markdown",
   "metadata": {},
   "source": [
    "## Highlights"
   ]
  },
  {
   "cell_type": "markdown",
   "metadata": {},
   "source": [
    "### Create Highlight"
   ]
  },
  {
   "cell_type": "code",
   "execution_count": null,
   "metadata": {},
   "outputs": [],
   "source": [
    "from rayyan.highlight import Highlight\n",
    "highlight_instance = Highlight(rayyan)\n",
    "\n",
    "highlight_data = highlight_instance.create_highlight(review_id, category_id=1, keyword=\"important term\")\n",
    "pprint(highlight_data)"
   ]
  },
  {
   "cell_type": "markdown",
   "metadata": {},
   "source": [
    "### Delete Highlight"
   ]
  },
  {
   "cell_type": "code",
   "execution_count": null,
   "metadata": {},
   "outputs": [],
   "source": [
    "highlight_data = highlight_instance.delete_highlight(review_id, 1, \"important term\")\n",
    "pprint(highlight_data)"
   ]
  },
  {
   "cell_type": "markdown",
   "metadata": {},
   "source": [
    "## Duplicates\n",
    "### Trigger dedup job for the review"
   ]
  },
  {
   "cell_type": "code",
   "execution_count": null,
   "metadata": {},
   "outputs": [],
   "source": [
    "from rayyan.duplicates import Duplicates\n",
    "\n",
    "duplicates_instance = Duplicates(rayyan)\n",
    "\n",
    "duplicates_instance.add_duplicate(review_id)\n"
   ]
  },
  {
   "cell_type": "code",
   "execution_count": null,
   "metadata": {},
   "outputs": [],
   "source": [
    "duplicates_instance.get_duplicate(review_id,my_articles[0]['id'])\n"
   ]
  },
  {
   "cell_type": "markdown",
   "metadata": {},
   "source": [
    "## Searches"
   ]
  },
  {
   "cell_type": "markdown",
   "metadata": {},
   "source": [
    "### Get Pre-signed URL"
   ]
  },
  {
   "cell_type": "code",
   "execution_count": null,
   "metadata": {},
   "outputs": [],
   "source": [
    "from rayyan.search import Search\n",
    "\n",
    "search = Search(rayyan)\n",
    "presigned_url_dict = search.pre_signed_url(review_id)\n",
    "pprint(presigned_url_dict)"
   ]
  },
  {
   "cell_type": "markdown",
   "metadata": {},
   "source": [
    "### Upload Search File"
   ]
  },
  {
   "cell_type": "code",
   "execution_count": null,
   "metadata": {},
   "outputs": [],
   "source": [
    "import os \n",
    "file_path = \"fulltext.txt\"\n",
    "search.upload_search_file(presigned_url_dict['key'],\n",
    "                          presigned_url_dict['x-amz-credential'] + \"1\",\n",
    "                          presigned_url_dict['x-amz-algorithm'],\n",
    "                          presigned_url_dict['x-amz-date'],\n",
    "                          presigned_url_dict['x-amz-signature'],\n",
    "                          presigned_url_dict['policy'],\n",
    "                          presigned_url_dict['success_action_status'],\n",
    "                          presigned_url_dict['url'],\n",
    "                          file_path\n",
    "                          )"
   ]
  },
  {
   "cell_type": "markdown",
   "metadata": {},
   "source": [
    "### Create Search"
   ]
  },
  {
   "cell_type": "code",
   "execution_count": null,
   "metadata": {},
   "outputs": [],
   "source": [
    "search.create(review_id, presigned_url_dict['key'],file_path )"
   ]
  },
  {
   "cell_type": "markdown",
   "metadata": {},
   "source": [
    "## Admin"
   ]
  },
  {
   "cell_type": "markdown",
   "metadata": {},
   "source": [
    "### Full Texts"
   ]
  },
  {
   "cell_type": "markdown",
   "metadata": {},
   "source": [
    "#### List Full Texts"
   ]
  },
  {
   "cell_type": "code",
   "execution_count": null,
   "metadata": {},
   "outputs": [],
   "source": [
    "from rayyan.admin import Admin\n",
    "\n",
    "admin = Admin(rayyan)\n",
    "\n",
    "full_texts = admin.list_full_texts()\n",
    "pprint(full_texts)"
   ]
  },
  {
   "cell_type": "markdown",
   "metadata": {},
   "source": [
    "#### Show Full Text"
   ]
  },
  {
   "cell_type": "code",
   "execution_count": null,
   "metadata": {},
   "outputs": [],
   "source": [
    "full_text_id = full_texts[0]['id']\n",
    "response = admin.show_full_text(full_text_id)\n",
    "pprint(response)"
   ]
  },
  {
   "cell_type": "markdown",
   "metadata": {},
   "source": [
    "#### Delete Full Text"
   ]
  },
  {
   "cell_type": "code",
   "execution_count": null,
   "metadata": {},
   "outputs": [],
   "source": [
    "response = admin.delete_full_texts(full_text_id)\n",
    "pprint(response)"
   ]
  },
  {
   "cell_type": "markdown",
   "metadata": {},
   "source": [
    "### Searches"
   ]
  },
  {
   "cell_type": "markdown",
   "metadata": {},
   "source": [
    "#### List Searches"
   ]
  },
  {
   "cell_type": "code",
   "execution_count": null,
   "metadata": {},
   "outputs": [],
   "source": [
    "searches = admin.list_searches()\n",
    "pprint(searches)"
   ]
  },
  {
   "cell_type": "markdown",
   "metadata": {},
   "source": [
    "#### Show Search"
   ]
  },
  {
   "cell_type": "code",
   "execution_count": null,
   "metadata": {},
   "outputs": [],
   "source": [
    "search_id = searches[0]['id']\n",
    "response = admin.show_search(search_id)\n",
    "pprint(response)"
   ]
  },
  {
   "cell_type": "markdown",
   "metadata": {},
   "source": [
    "#### Delete Search"
   ]
  },
  {
   "cell_type": "code",
   "execution_count": null,
   "metadata": {},
   "outputs": [],
   "source": [
    "response = admin.delete_searches(search_id)\n",
    "pprint(response)"
   ]
  },
  {
   "cell_type": "markdown",
   "metadata": {},
   "source": [
    "### Reviews"
   ]
  },
  {
   "cell_type": "markdown",
   "metadata": {},
   "source": [
    "#### List Reviews"
   ]
  },
  {
   "cell_type": "code",
   "execution_count": null,
   "metadata": {},
   "outputs": [],
   "source": [
    "reviews = admin.list_reviews({})\n",
    "pprint(reviews)"
   ]
  },
  {
   "cell_type": "markdown",
   "metadata": {},
   "source": [
    "#### Show Review"
   ]
  },
  {
   "cell_type": "code",
   "execution_count": null,
   "metadata": {},
   "outputs": [],
   "source": [
    "review_id = reviews[0]['id']\n",
    "response = admin.show_review(review_id)\n",
    "pprint(response)"
   ]
  },
  {
   "cell_type": "markdown",
   "metadata": {},
   "source": [
    "#### Edit Review"
   ]
  },
  {
   "cell_type": "code",
   "execution_count": null,
   "metadata": {},
   "outputs": [],
   "source": [
    "response = admin.edit_review(review_id, \"New Title2\", \"New Description\")\n",
    "pprint(response)"
   ]
  },
  {
   "cell_type": "markdown",
   "metadata": {},
   "source": [
    "#### Archive Review"
   ]
  },
  {
   "cell_type": "code",
   "execution_count": null,
   "metadata": {},
   "outputs": [],
   "source": [
    "response = admin.archive_review(review_id)\n",
    "pprint(response)"
   ]
  },
  {
   "cell_type": "markdown",
   "metadata": {},
   "source": [
    "#### Unarchive Review"
   ]
  },
  {
   "cell_type": "code",
   "execution_count": null,
   "metadata": {},
   "outputs": [],
   "source": [
    "response = admin.unarchive_review(review_id)\n",
    "pprint(response)"
   ]
  },
  {
   "cell_type": "markdown",
   "metadata": {},
   "source": [
    "#### Delete Review"
   ]
  },
  {
   "cell_type": "code",
   "execution_count": null,
   "metadata": {},
   "outputs": [],
   "source": [
    "response = admin.delete_review(review_id)\n",
    "pprint(response)"
   ]
  },
  {
   "cell_type": "markdown",
   "metadata": {},
   "source": [
    "### Teams"
   ]
  },
  {
   "cell_type": "markdown",
   "metadata": {},
   "source": [
    "#### List Teams"
   ]
  },
  {
   "cell_type": "code",
   "execution_count": null,
   "metadata": {},
   "outputs": [],
   "source": [
    "teams = admin.list_teams()\n",
    "pprint(teams)"
   ]
  },
  {
   "cell_type": "markdown",
   "metadata": {},
   "source": [
    "#### Show Team"
   ]
  },
  {
   "cell_type": "code",
   "execution_count": null,
   "metadata": {},
   "outputs": [],
   "source": [
    "team_id = teams[0]['id']\n",
    "response = admin.show_team(team_id)\n",
    "pprint(response)"
   ]
  },
  {
   "cell_type": "markdown",
   "metadata": {},
   "source": [
    "#### Edit Team"
   ]
  },
  {
   "cell_type": "code",
   "execution_count": null,
   "metadata": {},
   "outputs": [],
   "source": [
    "response = admin.edit_team(team_id, \"New Team Name lol\", 10, None, None, None, None, None, None)\n",
    "pprint(response)"
   ]
  },
  {
   "cell_type": "markdown",
   "metadata": {},
   "source": [
    "#### Create Team"
   ]
  },
  {
   "cell_type": "code",
   "execution_count": null,
   "metadata": {},
   "outputs": [],
   "source": [
    "response = admin.create_team(\"New Team\", 1000)\n",
    "pprint(response)"
   ]
  },
  {
   "cell_type": "markdown",
   "metadata": {},
   "source": [
    "#### Delete Team"
   ]
  },
  {
   "cell_type": "code",
   "execution_count": null,
   "metadata": {},
   "outputs": [],
   "source": [
    "response = admin.delete_team(team_id)\n",
    "pprint(response)"
   ]
  }
 ],
 "metadata": {
  "kernelspec": {
   "display_name": "Python 3",
   "language": "python",
   "name": "python3"
  },
  "language_info": {
   "codemirror_mode": {
    "name": "ipython",
    "version": 3
   },
   "file_extension": ".py",
   "mimetype": "text/x-python",
   "name": "python",
   "nbconvert_exporter": "python",
   "pygments_lexer": "ipython3",
   "version": "3.8.10"
  },
  "orig_nbformat": 4
 },
 "nbformat": 4,
 "nbformat_minor": 2
}
