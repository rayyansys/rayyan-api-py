{
 "cells": [
  {
   "cell_type": "markdown",
   "metadata": {},
   "source": [
    "# Rayyan SDK for Python\n",
    "\n",
    "## Installation\n",
    "\n",
    "After installing the package you can import it and create a `rayyan` instance as follows:\n",
    "\n",
    "> Note: the python package is not yet available on PyPI, so you need to install it from the source code."
   ]
  },
  {
   "cell_type": "code",
   "execution_count": 2,
   "metadata": {},
   "outputs": [],
   "source": [
    "from pprint import pprint\n",
    "from rayyan import Rayyan\n",
    "\n",
    "rayyan = Rayyan(\"creds.json\")"
   ]
  },
  {
   "cell_type": "markdown",
   "metadata": {},
   "source": [
    "The `creds.json` file should contain the following:\n",
    "\n",
    "```json\n",
    "{\n",
    "    \"access_token\": \"...\",\n",
    "    \"refresh_token\": \"...\"\n",
    "}\n",
    "```\n",
    "\n",
    "A valid file can be downloaded by signing in to Rayyan then going to My Account.\n",
    "\n",
    "> Note: this is not supported yet in production for all users."
   ]
  },
  {
   "cell_type": "markdown",
   "metadata": {},
   "source": [
    "## Accessing signed-in user data\n",
    "\n",
    "The simplest SDK call is the one that retrieves the signed-in user's data. This is done by calling the `get_info` method of `User` object:"
   ]
  },
  {
   "cell_type": "code",
   "execution_count": 3,
   "metadata": {},
   "outputs": [
    {
     "name": "stdout",
     "output_type": "stream",
     "text": [
      "{'displayName': 'MR test test2',\n",
      " 'feature_flags': {'add_review_metadata_to_review_form': True,\n",
      "                   'auto_resolver': True,\n",
      "                   'customize_by_filter': True,\n",
      "                   'feos_access': True,\n",
      "                   'feos_banner': True,\n",
      "                   'full_text': True,\n",
      "                   'live_chat': True,\n",
      "                   'mendeley_import': True,\n",
      "                   'mobile_access': False,\n",
      "                   'phone_support': False,\n",
      "                   'pico_extraction': True,\n",
      "                   'prisma': True,\n",
      "                   'revoked_roles': True,\n",
      "                   'training': True},\n",
      " 'firstName': 'test',\n",
      " 'lastName': 'test2',\n",
      " 'publicName': 'test test2',\n",
      " 'userId': 266,\n",
      " 'user_email': 'mohammad+team+owner@rayyan.ai'}\n"
     ]
    }
   ],
   "source": [
    "from rayyan.user import User\n",
    "\n",
    "user = User(rayyan).get_info()\n",
    "\n",
    "# Remove request_token before printing\n",
    "user.pop('request_token', None)\n",
    "# Remove some other fields\n",
    "user.pop('subscription', None)\n",
    "# user.pop('feature_flags', None)\n",
    "pprint(user)"
   ]
  },
  {
   "cell_type": "markdown",
   "metadata": {},
   "source": [
    "## Retrieving the list of all reviews"
   ]
  },
  {
   "cell_type": "code",
   "execution_count": 4,
   "metadata": {},
   "outputs": [
    {
     "name": "stdout",
     "output_type": "stream",
     "text": [
      "{'collab_reviews': [],\n",
      " 'collab_reviews_total': 0,\n",
      " 'owned_reviews': [{'accessed_at': '2023-09-07T13:21:35.428Z',\n",
      "                    'articles_etag': '3408:10',\n",
      "                    'created_at': '2023-09-06T13:08:40.060Z',\n",
      "                    'inclusions_etag': '2023-09-07 11:16:41 UTC',\n",
      "                    'is_blind': True,\n",
      "                    'labels_etag': '2023-09-07 13:21:32 UTC',\n",
      "                    'maybe_decision_supported': True,\n",
      "                    'owner': {'abbrev': 'test',\n",
      "                              'email': 'mohammad+team+owner@rayyan.ai',\n",
      "                              'enterprise_power_user?': False,\n",
      "                              'global_owner_user?': False,\n",
      "                              'guest?': False,\n",
      "                              'has_fulltext_access': True,\n",
      "                              'id': 266,\n",
      "                              'most_recent_active_single_team_subscription': None,\n",
      "                              'most_recent_active_team_subscription': {'cancelled_at': None,\n",
      "                                                                       'created_at': '2023-05-03T11:24:56.591Z',\n",
      "                                                                       'description': '',\n",
      "                                                                       'enabled': True,\n",
      "                                                                       'expires_at': None,\n",
      "                                                                       'id': 1185,\n",
      "                                                                       'key': 'RYNTMS',\n",
      "                                                                       'last_event_created_time': None,\n",
      "                                                                       'last_event_id': None,\n",
      "                                                                       'last_event_payload': None,\n",
      "                                                                       'last_event_type': None,\n",
      "                                                                       'name': '',\n",
      "                                                                       'payment_issue': False,\n",
      "                                                                       'revoked_at': None,\n",
      "                                                                       'store_subscription_id': None,\n",
      "                                                                       'team_capacity': None,\n",
      "                                                                       'updated_at': '2023-05-03T11:25:11.361Z',\n",
      "                                                                       'user_id': 266},\n",
      "                              'owned_teams': [{'id': 76, 'name': 'Team #2'},\n",
      "                                              {'id': 77, 'name': 'Team #3'},\n",
      "                                              {'id': 292, 'name': 'Team 1'}],\n",
      "                              'team_owner_user?': True,\n",
      "                              'teams': [],\n",
      "                              'teams_as_admin': [],\n",
      "                              'teams_as_collaborator': [],\n",
      "                              'teams_as_viewer': [],\n",
      "                              'to_s': 'MR test test2'},\n",
      "                    'rayyan_id': 2755,\n",
      "                    'team_review?': False,\n",
      "                    'title': 'Review test py client',\n",
      "                    'total_articles': 10,\n",
      "                    'updated_at': '2023-09-07T13:27:29.312Z',\n",
      "                    'users_count': 4}],\n",
      " 'owned_reviews_total': 1}\n",
      "Found 1 owned reviews and 0 shared reviews.\n"
     ]
    }
   ],
   "source": [
    "from rayyan.review import Review\n",
    "rayyan_review = Review(rayyan)\n",
    "reviews = rayyan_review.get_all()\n",
    "pprint(reviews)\n",
    "print(f'Found {len(reviews[\"owned_reviews\"])} owned reviews and {len(reviews[\"collab_reviews\"])} shared reviews.')"
   ]
  },
  {
   "cell_type": "markdown",
   "metadata": {},
   "source": [
    "## Working on the first owned review\n",
    "\n",
    "### Printing some review key information"
   ]
  },
  {
   "cell_type": "code",
   "execution_count": 5,
   "metadata": {},
   "outputs": [
    {
     "name": "stdout",
     "output_type": "stream",
     "text": [
      "Here is the first review in the list of owned reviews: 'Review test py client' created on '2023-09-06T13:08:40.060Z' and it has a total of 10 articles.\n"
     ]
    }
   ],
   "source": [
    "my_review = reviews['owned_reviews'][0]\n",
    "# pprint(my_review)\n",
    "print(f\"Here is the first review in the list of owned reviews: '{my_review['title']}' created on '{my_review['created_at']}' and it has a total of {my_review['total_articles']} articles.\")\n"
   ]
  },
  {
   "cell_type": "markdown",
   "metadata": {},
   "source": [
    "### Listing the first 15 articles sorted by title"
   ]
  },
  {
   "cell_type": "code",
   "execution_count": 6,
   "metadata": {},
   "outputs": [
    {
     "name": "stdout",
     "output_type": "stream",
     "text": [
      "Returned 10 record(s) matching 10 record(s) out of 10 in total\n"
     ]
    }
   ],
   "source": [
    "review_id = my_review['rayyan_id']\n",
    "result_params = {\n",
    "    \"start\": 0,\n",
    "    \"length\": 15,\n",
    "    \"order[0][column]\": 5,\n",
    "    \"order[0][dir]\": \"asc\"\n",
    "    # ... other query parameters ...\n",
    "}\n",
    "review_results = rayyan_review.results(review_id, result_params)\n",
    "print(f'Returned {len(review_results[\"data\"])} record(s) matching {review_results[\"recordsFiltered\"]} record(s) out of {review_results[\"recordsTotal\"]} in total')\n"
   ]
  },
  {
   "cell_type": "markdown",
   "metadata": {},
   "source": [
    "### Printing article titles and authors"
   ]
  },
  {
   "cell_type": "code",
   "execution_count": 7,
   "metadata": {},
   "outputs": [
    {
     "name": "stdout",
     "output_type": "stream",
     "text": [
      "1: Assessment and characterisation of post-COVID-19 manifestations.\n",
      "    Authors: Kamal M, Abo Omirah M, Hussein A, Saeed H\n",
      "2: COVID-19 and arrhythmia: An overview.\n",
      "    Authors: Varney JA, Dong VS, Tsao T, Sabir MS, Rivera AT, Ghula S, Moriles KE, Cherukuri ML, Fazal R, Azevedo CB, Mohamed RM, Jackson GR, Fleming SE, Rochez DE, Abbas KS, Shah JH, Minh LHN, Osman F, Rafla SM, Huy NT\n",
      "3: COVID-19 and the liver: overview.\n",
      "    Authors: Amin M\n",
      "4: COVID-19 ICU and mechanical ventilation patient characteristics and outcomes-A systematic review and meta-analysis.\n",
      "    Authors: Chang R, Elhusseiny KM, Yeh YC, Sun WZ\n",
      "5: COVID-19 in Egypt: Through crisis to adaptation; a gastroenterologist's perspective.\n",
      "    Authors: El Kassas M, Abdelkader H, Medhat MA\n",
      "6: COVID-19 in Egypt: Uncovered figures or a different situation?\n",
      "    Authors: Medhat MA, El Kassas M\n",
      "7: Diabetes Mellitus and COVID-19: Review Article.\n",
      "    Authors: Nassar M, Daoud A, Nso N, Medina L, Ghernautan V, Bhangoo H, Nyein A, Mohamed M, Alqassieh A, Soliman K, Alfishawy M, Sachmechi I, Misra A\n",
      "8: Egypt's COVID-19 Recent Happenings and Perspectives: A Mini-Review.\n",
      "    Authors: Saied AA, Metwally AA, Madkhali NAB, Haque S, Dhama K\n",
      "9: Of mitochondrion and COVID-19.\n",
      "    Authors: Alfarouk KO, Alhoufie STS, Hifny A, Schwartz L, Alqahtani AS, Ahmed SBM, Alqahtani AM, Alqahtani SS, Muddathir AK, Ali H, Bashir AHH, Ibrahim ME, Greco MR, Cardone RA, Harguindey S, Reshkin SJ\n",
      "10: Pathophysiology of Post-COVID syndromes: a new perspective.\n",
      "    Authors: Batiha GE, Al-Kuraishy HM, Al-Gareeb AI, Welson NN\n"
     ]
    }
   ],
   "source": [
    "for index, result in enumerate(review_results['data']):\n",
    "    print(f'{index+1}: {result[\"title\"]}')\n",
    "    print(f'    Authors: {\", \".join(result[\"authors\"])}')"
   ]
  },
  {
   "cell_type": "markdown",
   "metadata": {},
   "source": [
    "### Including the first article"
   ]
  },
  {
   "cell_type": "code",
   "execution_count": 8,
   "metadata": {},
   "outputs": [
    {
     "name": "stdout",
     "output_type": "stream",
     "text": [
      "Included article with title: Assessment and characterisation of post-COVID-19 manifestations.\n"
     ]
    }
   ],
   "source": [
    "my_article = review_results['data'][0]\n",
    "article_id = my_article['id']\n",
    "customization_plan = {\n",
    "    \"included\": 1\n",
    "}\n",
    "rayyan_review.customize(review_id, article_id, customization_plan)\n",
    "print(f'Included article with title: {my_article[\"title\"]}')"
   ]
  },
  {
   "cell_type": "markdown",
   "metadata": {},
   "source": [
    "### Filtering by included articles"
   ]
  },
  {
   "cell_type": "code",
   "execution_count": 9,
   "metadata": {},
   "outputs": [
    {
     "name": "stdout",
     "output_type": "stream",
     "text": [
      "Returned 1 record(s) matching 1 record(s) out of 10 in total:\n",
      "1: Assessment and characterisation of post-COVID-19 manifestations.\n",
      "    Authors: Kamal M, Abo Omirah M, Hussein A, Saeed H\n"
     ]
    }
   ],
   "source": [
    "result_params = {\n",
    "    \"start\": 0,\n",
    "    \"length\": 20,\n",
    "    \"extra[mode]\": \"included\"\n",
    "}\n",
    "included_results = rayyan_review.results(review_id, result_params)\n",
    "print(f'Returned {len(included_results[\"data\"])} record(s) matching {included_results[\"recordsFiltered\"]} record(s) out of {included_results[\"recordsTotal\"]} in total:')\n",
    "for index, result in enumerate(included_results['data']):\n",
    "    print(f'{index+1}: {result[\"title\"]}')\n",
    "    print(f'    Authors: {\", \".join(result[\"authors\"])}')\n"
   ]
  },
  {
   "cell_type": "markdown",
   "metadata": {},
   "source": [
    "### Excluding the next 5 articles"
   ]
  },
  {
   "cell_type": "code",
   "execution_count": 10,
   "metadata": {},
   "outputs": [
    {
     "name": "stdout",
     "output_type": "stream",
     "text": [
      "Excluding article 771366...\n",
      "Excluding article 771365...\n",
      "Excluding article 771372...\n",
      "Excluding article 771371...\n",
      "Excluding article 771367...\n",
      "Excluded 5 articles from review 2755.\n"
     ]
    }
   ],
   "source": [
    "my_articles = review_results['data'][1:6]\n",
    "customization_plan = {\n",
    "    \"included\": -1\n",
    "}\n",
    "for article in my_articles:\n",
    "    article_id = article['id']\n",
    "    print(f'Excluding article {article_id}...')\n",
    "    rayyan_review.customize(review_id, article_id, customization_plan)\n",
    "print(f'Excluded {len(my_articles)} articles from review {review_id}.')"
   ]
  },
  {
   "cell_type": "markdown",
   "metadata": {},
   "source": [
    "### Excluding the next 3 articles in bluk"
   ]
  },
  {
   "cell_type": "code",
   "execution_count": 11,
   "metadata": {},
   "outputs": [
    {
     "data": {
      "text/plain": [
       "{'missed_etags': {'inclusions_etag': '2023-09-11 20:37:26 UTC',\n",
       "  'labels_etag': '2023-09-07 13:21:32 UTC'},\n",
       " 'new_etags': {'inclusions_etag': '2023-09-11 20:37:27 UTC',\n",
       "  'labels_etag': '2023-09-07 13:21:32 UTC'},\n",
       " 'customization_ids': [448, 449, 450]}"
      ]
     },
     "execution_count": 11,
     "metadata": {},
     "output_type": "execute_result"
    }
   ],
   "source": [
    "my_articles = review_results['data'][7:10]\n",
    "rayyan_review.bulk_customizations(review_id, \"included\", -1, (\",\").join(map(str,[a['id'] for a in my_articles])))"
   ]
  },
  {
   "cell_type": "markdown",
   "metadata": {},
   "source": [
    "### Getting the inclusion counts facet for the review"
   ]
  },
  {
   "cell_type": "code",
   "execution_count": 12,
   "metadata": {},
   "outputs": [
    {
     "name": "stdout",
     "output_type": "stream",
     "text": [
      "{'inclusion_counts': {'collection': [], 'has_evenmore': False, 'more': []}}\n"
     ]
    }
   ],
   "source": [
    "facet_params = {\n",
    "    \"facets[inclusion_counts]\": \"1\"\n",
    "}\n",
    "facet_info = rayyan_review.facets(review_id, facet_params)\n",
    "pprint(facet_info)"
   ]
  },
  {
   "cell_type": "markdown",
   "metadata": {},
   "source": [
    "### Getting Customizations for `inclusion_decisions` and `labels` of the First 15 Articles Sorted by Title"
   ]
  },
  {
   "cell_type": "code",
   "execution_count": 13,
   "metadata": {},
   "outputs": [
    {
     "name": "stdout",
     "output_type": "stream",
     "text": [
      "[{'_id': 265,\n",
      "  'article_id': 776311,\n",
      "  'created_at': '2023-09-06T13:14:04.274Z',\n",
      "  'key': 'included',\n",
      "  'user_id': 266,\n",
      "  'value': '0'},\n",
      " {'_id': 266,\n",
      "  'article_id': 776311,\n",
      "  'created_at': '2023-09-06T13:15:27.271Z',\n",
      "  'key': 'included',\n",
      "  'user_id': 266,\n",
      "  'value': '1'},\n",
      " {'_id': 267,\n",
      "  'article_id': 776311,\n",
      "  'created_at': '2023-09-06T13:15:55.944Z',\n",
      "  'key': 'included',\n",
      "  'user_id': 266,\n",
      "  'value': '-1'},\n",
      " {'_id': 268,\n",
      "  'article_id': 774908,\n",
      "  'created_at': '2023-09-06T13:15:56.046Z',\n",
      "  'key': 'included',\n",
      "  'user_id': 266,\n",
      "  'value': '-1'},\n",
      " {'_id': 269,\n",
      "  'article_id': 773192,\n",
      "  'created_at': '2023-09-06T13:15:56.196Z',\n",
      "  'key': 'included',\n",
      "  'user_id': 266,\n",
      "  'value': '-1'}]\n"
     ]
    }
   ],
   "source": [
    "customization_params = {\n",
    "    \"types[]\": [\"inclusion_decisions\", \"labels\"]\n",
    "}\n",
    "\n",
    "pprint(rayyan_review.get_customizations(review_id, customization_params))"
   ]
  },
  {
   "cell_type": "markdown",
   "metadata": {},
   "source": [
    "### Invite Collaborator to the review"
   ]
  },
  {
   "cell_type": "code",
   "execution_count": 14,
   "metadata": {},
   "outputs": [
    {
     "name": "stdout",
     "output_type": "stream",
     "text": [
      "''\n"
     ]
    }
   ],
   "source": [
    "from rayyan.review_access import ReviewAccess\n",
    "review_access_instance = ReviewAccess(rayyan)\n",
    "\n",
    "invite_confirmation = review_access_instance.invite(review_id, 2, [\"user3@example.com\"], \"Collaboration on data analysis.\")\n",
    "pprint(invite_confirmation)\n"
   ]
  },
  {
   "cell_type": "markdown",
   "metadata": {},
   "source": [
    "### Change Collaborator to a Viewer"
   ]
  },
  {
   "cell_type": "code",
   "execution_count": 15,
   "metadata": {},
   "outputs": [
    {
     "name": "stdout",
     "output_type": "stream",
     "text": [
      "''\n"
     ]
    }
   ],
   "source": [
    "invite_confirmation = review_access_instance.update_access(review_id, 3, [\"user3@example.com\"])\n",
    "pprint(invite_confirmation)\n"
   ]
  },
  {
   "cell_type": "markdown",
   "metadata": {},
   "source": [
    "### Revoke Viewer access"
   ]
  },
  {
   "cell_type": "code",
   "execution_count": 16,
   "metadata": {},
   "outputs": [
    {
     "name": "stdout",
     "output_type": "stream",
     "text": [
      "''\n"
     ]
    }
   ],
   "source": [
    "# invite_confirmation = review_access_instance.update_access(review_id, 3, [\"user3@example.com\"])\n",
    "# pprint(invite_confirmation)\n",
    "my_review_json = rayyan_review.get(review_id)\n",
    "viewr_id = my_review_json['viewers'][0]['id']\n",
    "\n",
    "pprint(review_access_instance.revoke(review_id, viewr_id))\n"
   ]
  },
  {
   "cell_type": "markdown",
   "metadata": {},
   "source": [
    "### Restore Viewer access"
   ]
  },
  {
   "cell_type": "code",
   "execution_count": 17,
   "metadata": {},
   "outputs": [
    {
     "name": "stdout",
     "output_type": "stream",
     "text": [
      "''\n",
      "594\n"
     ]
    }
   ],
   "source": [
    "pprint(review_access_instance.restore(review_id, viewr_id))\n",
    "pprint(viewr_id)"
   ]
  },
  {
   "cell_type": "markdown",
   "metadata": {},
   "source": [
    "### Delete Viewer access"
   ]
  },
  {
   "cell_type": "code",
   "execution_count": 18,
   "metadata": {},
   "outputs": [
    {
     "name": "stdout",
     "output_type": "stream",
     "text": [
      "''\n"
     ]
    }
   ],
   "source": [
    "pprint(review_access_instance.delete_access(review_id, viewr_id))"
   ]
  },
  {
   "cell_type": "markdown",
   "metadata": {},
   "source": [
    "## Notes"
   ]
  },
  {
   "cell_type": "markdown",
   "metadata": {},
   "source": [
    "### Create note"
   ]
  },
  {
   "cell_type": "code",
   "execution_count": 19,
   "metadata": {},
   "outputs": [
    {
     "name": "stdout",
     "output_type": "stream",
     "text": [
      "Added a note to article: Egypt's COVID-19 Recent Happenings and Perspectives: A Mini-Review. \n",
      "Note id: 2643\n"
     ]
    }
   ],
   "source": [
    "from rayyan.notes import Notes\n",
    "\n",
    "notes_instance = Notes(rayyan)\n",
    "note_id = notes_instance.create_note(review_id, my_articles[0]['id'], text=\"This article needs further analysis.\")\n",
    "print(f'Added a note to article: {my_articles[0][\"title\"]} \\nNote id: {note_id}')\n"
   ]
  },
  {
   "cell_type": "markdown",
   "metadata": {},
   "source": [
    "### Update Note"
   ]
  },
  {
   "cell_type": "code",
   "execution_count": 20,
   "metadata": {},
   "outputs": [
    {
     "name": "stdout",
     "output_type": "stream",
     "text": [
      "{'status': 'OK'}\n"
     ]
    }
   ],
   "source": [
    "response = notes_instance.update_note(review_id, my_articles[0]['id'], note_id, text=\"UPDATED This article needs further analysis.\")\n",
    "print(response)\n"
   ]
  },
  {
   "cell_type": "markdown",
   "metadata": {},
   "source": [
    "### Delete Note"
   ]
  },
  {
   "cell_type": "code",
   "execution_count": 21,
   "metadata": {},
   "outputs": [
    {
     "name": "stdout",
     "output_type": "stream",
     "text": [
      "{'status': 'OK'}\n"
     ]
    }
   ],
   "source": [
    "response = notes_instance.delete_note(review_id, my_articles[0]['id'], note_id)\n",
    "print(response)\n"
   ]
  },
  {
   "cell_type": "markdown",
   "metadata": {},
   "source": [
    "## ThirdPartyAuth"
   ]
  },
  {
   "cell_type": "markdown",
   "metadata": {},
   "source": [
    "### Get ThirdPartyAuth link"
   ]
  },
  {
   "cell_type": "code",
   "execution_count": 22,
   "metadata": {},
   "outputs": [
    {
     "name": "stdout",
     "output_type": "stream",
     "text": [
      "{'code': 302,\n",
      " 'data': {'redirect_to': 'https://api.mendeley.com/oauth/authorize?client_id=14062&redirect_uri=https%3A%2F%2Fstaging.rayyan.ai%2Fthird_party_auth%2Fmendeley_callback&response_type=code&scope=all'},\n",
      " 'message': 'Found'}\n"
     ]
    }
   ],
   "source": [
    "from rayyan.third_party_auth import ThirdPartyAuth\n",
    "from rayyan.conf import MENDELEY\n",
    "\n",
    "third_party_auth_instance = ThirdPartyAuth(rayyan, MENDELEY)\n",
    "auth_link = third_party_auth_instance.get_auth_link()\n",
    "pprint(auth_link)"
   ]
  },
  {
   "cell_type": "markdown",
   "metadata": {},
   "source": [
    "## Highlights"
   ]
  },
  {
   "cell_type": "markdown",
   "metadata": {},
   "source": [
    "### Create Highlight"
   ]
  },
  {
   "cell_type": "code",
   "execution_count": 25,
   "metadata": {},
   "outputs": [],
   "source": [
    "from rayyan.highlight import Highlight\n",
    "highlight_instance = Highlight(rayyan)\n",
    "\n",
    "highlight_data = highlight_instance.create_highlight(review_id, category_id=1, keyword=\"important term\")"
   ]
  },
  {
   "cell_type": "markdown",
   "metadata": {},
   "source": [
    "### Delete Highlight"
   ]
  },
  {
   "cell_type": "code",
   "execution_count": 26,
   "metadata": {},
   "outputs": [],
   "source": [
    "highlight_data = highlight_instance.delete_highlight(review_id, category_id=1, body_id=1)"
   ]
  },
  {
   "cell_type": "markdown",
   "metadata": {},
   "source": [
    "## Duplicates\n",
    "### Trigger dedup job for the review"
   ]
  },
  {
   "cell_type": "code",
   "execution_count": null,
   "metadata": {},
   "outputs": [],
   "source": [
    "from rayyan.duplicates import Duplicates\n",
    "\n",
    "duplicates_instance = Duplicates(rayyan)\n",
    "\n",
    "duplicates_instance.add_duplicate(review_id)\n"
   ]
  },
  {
   "cell_type": "code",
   "execution_count": null,
   "metadata": {},
   "outputs": [],
   "source": [
    "duplicates_instance.get_duplicate(review_id,my_articles[0]['id'])\n"
   ]
  }
 ],
 "metadata": {
  "kernelspec": {
   "display_name": "Python 3",
   "language": "python",
   "name": "python3"
  },
  "language_info": {
   "codemirror_mode": {
    "name": "ipython",
    "version": 3
   },
   "file_extension": ".py",
   "mimetype": "text/x-python",
   "name": "python",
   "nbconvert_exporter": "python",
   "pygments_lexer": "ipython3",
   "version": "3.8.10"
  },
  "orig_nbformat": 4
 },
 "nbformat": 4,
 "nbformat_minor": 2
}
