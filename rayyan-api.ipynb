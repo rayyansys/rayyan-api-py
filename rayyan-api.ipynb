{
 "cells": [
  {
   "cell_type": "markdown",
   "metadata": {},
   "source": [
    "# Rayyan SDK for Python\n",
    "\n",
    "## Installation\n",
    "\n",
    "After installing the package you can import it and create a `rayyan` instance as follows:\n",
    "\n",
    "> Note: the python package is not yet available on PyPI, so you need to install it from the source code."
   ]
  },
  {
   "cell_type": "code",
   "execution_count": 1,
   "metadata": {},
   "outputs": [],
   "source": [
    "from pprint import pprint\n",
    "from rayyan import Rayyan\n",
    "\n",
    "rayyan = Rayyan(\"creds.json\", \"https://staging.rayyan.ai\")"
   ]
  },
  {
   "cell_type": "markdown",
   "metadata": {},
   "source": [
    "The `creds.json` file should contain the following:\n",
    "\n",
    "```json\n",
    "{\n",
    "    \"access_token\": \"...\",\n",
    "    \"refresh_token\": \"...\"\n",
    "}\n",
    "```\n",
    "\n",
    "A valid file can be downloaded by signing in to Rayyan then going to My Account.\n",
    "\n",
    "> Note: this is not supported yet in production for all users."
   ]
  },
  {
   "cell_type": "markdown",
   "metadata": {},
   "source": [
    "## Accessing signed-in user data\n",
    "\n",
    "The simplest SDK call is the one that retrieves the signed-in user's data. This is done by calling the `get_info` method of `User` object:"
   ]
  },
  {
   "cell_type": "code",
   "execution_count": 2,
   "metadata": {},
   "outputs": [
    {
     "name": "stdout",
     "output_type": "stream",
     "text": [
      "{'displayName': 'MR test test2',\n",
      " 'feature_flags': {'add_review_metadata_to_review_form': True,\n",
      "                   'auto_resolver': True,\n",
      "                   'customize_by_filter': True,\n",
      "                   'feos_access': True,\n",
      "                   'feos_banner': True,\n",
      "                   'full_text': False,\n",
      "                   'live_chat': False,\n",
      "                   'mendeley_import': True,\n",
      "                   'mobile_access': False,\n",
      "                   'phone_support': False,\n",
      "                   'pico_extraction': True,\n",
      "                   'prisma': True,\n",
      "                   'revoked_roles': True,\n",
      "                   'training': False},\n",
      " 'firstName': 'test',\n",
      " 'lastName': 'test2',\n",
      " 'publicName': 'test test2',\n",
      " 'userId': 266,\n",
      " 'user_email': 'mohammad+team+owner@rayyan.ai'}\n"
     ]
    }
   ],
   "source": [
    "from rayyan.user import User\n",
    "\n",
    "user = User(rayyan).get_info()\n",
    "\n",
    "# Remove request_token before printing\n",
    "user.pop('request_token', None)\n",
    "# Remove some other fields\n",
    "user.pop('subscription', None)\n",
    "# user.pop('feature_flags', None)\n",
    "pprint(user)"
   ]
  },
  {
   "cell_type": "markdown",
   "metadata": {},
   "source": [
    "## Retrieving the list of all reviews"
   ]
  },
  {
   "cell_type": "code",
   "execution_count": 3,
   "metadata": {},
   "outputs": [
    {
     "name": "stdout",
     "output_type": "stream",
     "text": [
      "{'collab_reviews': [],\n",
      " 'collab_reviews_total': 0,\n",
      " 'owned_reviews': [{'accessed_at': '2023-09-07T11:09:39.141Z',\n",
      "                    'articles_etag': '3408:10-3409:5794',\n",
      "                    'created_at': '2023-09-06T13:08:40.060Z',\n",
      "                    'inclusions_etag': '2023-09-07 10:32:21 UTC',\n",
      "                    'is_blind': True,\n",
      "                    'labels_etag': '',\n",
      "                    'maybe_decision_supported': True,\n",
      "                    'owner': {'abbrev': 'test',\n",
      "                              'email': 'mohammad+team+owner@rayyan.ai',\n",
      "                              'enterprise_power_user?': False,\n",
      "                              'global_owner_user?': False,\n",
      "                              'guest?': False,\n",
      "                              'has_fulltext_access': True,\n",
      "                              'id': 266,\n",
      "                              'most_recent_active_single_team_subscription': None,\n",
      "                              'most_recent_active_team_subscription': {'cancelled_at': None,\n",
      "                                                                       'created_at': '2023-05-03T11:24:56.591Z',\n",
      "                                                                       'description': '',\n",
      "                                                                       'enabled': True,\n",
      "                                                                       'expires_at': None,\n",
      "                                                                       'id': 1185,\n",
      "                                                                       'key': 'RYNTMS',\n",
      "                                                                       'last_event_created_time': None,\n",
      "                                                                       'last_event_id': None,\n",
      "                                                                       'last_event_payload': None,\n",
      "                                                                       'last_event_type': None,\n",
      "                                                                       'name': '',\n",
      "                                                                       'payment_issue': False,\n",
      "                                                                       'revoked_at': None,\n",
      "                                                                       'store_subscription_id': None,\n",
      "                                                                       'team_capacity': None,\n",
      "                                                                       'updated_at': '2023-05-03T11:25:11.361Z',\n",
      "                                                                       'user_id': 266},\n",
      "                              'owned_teams': [{'id': 76, 'name': 'Team #2'},\n",
      "                                              {'id': 77, 'name': 'Team #3'},\n",
      "                                              {'id': 292, 'name': 'Team 1'}],\n",
      "                              'team_owner_user?': True,\n",
      "                              'teams': [],\n",
      "                              'teams_as_admin': [],\n",
      "                              'teams_as_collaborator': [],\n",
      "                              'teams_as_viewer': [],\n",
      "                              'to_s': 'MR test test2'},\n",
      "                    'rayyan_id': 2755,\n",
      "                    'team_review?': False,\n",
      "                    'title': 'Review test py client',\n",
      "                    'total_articles': 5804,\n",
      "                    'updated_at': '2023-09-06T13:10:16.086Z',\n",
      "                    'users_count': 4}],\n",
      " 'owned_reviews_total': 1}\n",
      "Found 1 owned reviews and 0 shared reviews.\n"
     ]
    }
   ],
   "source": [
    "from rayyan.review import Review\n",
    "rayyan_review = Review(rayyan)\n",
    "reviews = rayyan_review.get_all()\n",
    "pprint(reviews)\n",
    "print(f'Found {len(reviews[\"owned_reviews\"])} owned reviews and {len(reviews[\"collab_reviews\"])} shared reviews.')"
   ]
  },
  {
   "cell_type": "markdown",
   "metadata": {},
   "source": [
    "## Working on the first owned review\n",
    "\n",
    "### Printing some review key information"
   ]
  },
  {
   "cell_type": "code",
   "execution_count": 4,
   "metadata": {},
   "outputs": [
    {
     "name": "stdout",
     "output_type": "stream",
     "text": [
      "Here is the first review in the list of owned reviews: 'Review test py client' created on '2023-09-06T13:08:40.060Z' and it has a total of 5804 articles.\n"
     ]
    }
   ],
   "source": [
    "my_review = reviews['owned_reviews'][0]\n",
    "# pprint(my_review)\n",
    "print(f\"Here is the first review in the list of owned reviews: '{my_review['title']}' created on '{my_review['created_at']}' and it has a total of {my_review['total_articles']} articles.\")\n"
   ]
  },
  {
   "cell_type": "markdown",
   "metadata": {},
   "source": [
    "### Listing the first 15 articles sorted by title"
   ]
  },
  {
   "cell_type": "code",
   "execution_count": 5,
   "metadata": {},
   "outputs": [
    {
     "name": "stdout",
     "output_type": "stream",
     "text": [
      "Returned 15 record(s) matching 5804 record(s) out of 5804 in total\n"
     ]
    }
   ],
   "source": [
    "review_id = my_review['rayyan_id']\n",
    "result_params = {\n",
    "    \"start\": 0,\n",
    "    \"length\": 15,\n",
    "    \"order[0][column]\": 5,\n",
    "    \"order[0][dir]\": \"asc\"\n",
    "    # ... other query parameters ...\n",
    "}\n",
    "review_results = rayyan_review.results(review_id, result_params)\n",
    "print(f'Returned {len(review_results[\"data\"])} record(s) matching {review_results[\"recordsFiltered\"]} record(s) out of {review_results[\"recordsTotal\"]} in total')\n"
   ]
  },
  {
   "cell_type": "markdown",
   "metadata": {},
   "source": [
    "### Printing article titles and authors"
   ]
  },
  {
   "cell_type": "code",
   "execution_count": 6,
   "metadata": {},
   "outputs": [
    {
     "name": "stdout",
     "output_type": "stream",
     "text": [
      "1: 10-Year Comparative Follow-up of Familial versus Multifactorial Chylomicronemia Syndromes.\n",
      "    Authors: Belhassen M, Van Ganse E, Nolin M, Bérard M, Bada H, Bruckert E, Krempf M, Rebours V, Valero R, Moulin P\n",
      "2: 11C-L-methionine for evaluation of pancreatic exocrine function.\n",
      "    Authors: Syrota A, Dop-Ngassa M, Cerf M, Paraf A\n",
      "3: [11C]methionine positron emission tomography for the evaluation of pancreatic exocrine function in chronic pancreatitis.\n",
      "    Authors: Takasu A, Shimosegawa T, Shimosegawa E, Hatazawa J, Nagasaki Y, Kimura K, Fujita M, Toyota T\n",
      "4: 13C-mixed triglyceride breath test for evaluation of pancreatic exocrine function in diabetes mellitus.\n",
      "    Authors: Keller J, Layer P, Brückel S, Jahr C, Rosien U\n",
      "5: [13C-mixed triglyceride CO2 exhalation test. Investigation with an isotope selective, non dispersive infrared spectrophotometer of indirect function of the exocrine pancreas].\n",
      "    Authors: Adamek RJ, Bödeker C, Szymanski C, Hagemann D, Pfaffenbach B\n",
      "6: 13C-starch breath test--comparative clinical evaluation of an indirect pancreatic function test.\n",
      "    Authors: Löser C, Möllgaard A, Aygen S, Hennemann O, Fölsch UR\n",
      "7: 14C-tripalmitin breath test as a diagnostic aid for fat malabsorption due to pancreatic insufficiency.\n",
      "    Authors: Chen IW, Azmudeh K, Connell AM, Saenger EL\n",
      "8: 18FDG-positron emission tomography in pancreatic cancer.\n",
      "    Authors: Zimny M, Buell U\n",
      "9: 18F-fluoro-2-deoxy-D-glucose retention index as a prognostic parameter in patients with pancreatic cancer.\n",
      "    Authors: Xi Y, Guo R, Hu J, Zhang M, Zhang X, Li B\n",
      "10: 30-Day outcomes and predictors of complications after Puestow procedure.\n",
      "    Authors: Napolitano M, Brody F, Lee KB, Rosenfeld E, Chen S, Murillo-Berlioz AE, Amdur R\n",
      "11: [35-year-old man with acute alcoholic pancreatitis].\n",
      "    Authors: Uscanga L, Gamboa Domínguez A\n",
      "12: [4 cases of calcifying pancreatitis in hemochromatosis].\n",
      "    Authors: Bourel M, Simon M, Ferrand B, Pawlotsky Y, Lenoir P\n",
      "13: 50 years ago in The Journal of Pediatrics: Pancreatic lithiasis due to malnutrition and alcoholism in a child.\n",
      "    Authors: Knight AB, Walker LR\n",
      "14: [50 YEARS OF SURGERY (1913-1963) AT THE UNIVERSITY SURGICAL CLINIC IN GENEVA].\n",
      "    Authors: JENTZER A\n",
      "15: 75 Se-selenomethionine scanning in the diagnosis of tumours of the pancreas and adjacent viscera: the use of the test and its impact on survival.\n",
      "    Authors: McCarthy DM, Brown P, Melmed RN, Agnew JE, Bouchier IA\n"
     ]
    }
   ],
   "source": [
    "for index, result in enumerate(review_results['data']):\n",
    "    print(f'{index+1}: {result[\"title\"]}')\n",
    "    print(f'    Authors: {\", \".join(result[\"authors\"])}')"
   ]
  },
  {
   "cell_type": "markdown",
   "metadata": {},
   "source": [
    "### Including the first article"
   ]
  },
  {
   "cell_type": "code",
   "execution_count": 7,
   "metadata": {},
   "outputs": [
    {
     "name": "stdout",
     "output_type": "stream",
     "text": [
      "Included article with title: 10-Year Comparative Follow-up of Familial versus Multifactorial Chylomicronemia Syndromes.\n"
     ]
    }
   ],
   "source": [
    "my_article = review_results['data'][0]\n",
    "article_id = my_article['id']\n",
    "customization_plan = {\n",
    "    \"included\": 1\n",
    "}\n",
    "rayyan_review.customize(review_id, article_id, customization_plan)\n",
    "print(f'Included article with title: {my_article[\"title\"]}')"
   ]
  },
  {
   "cell_type": "markdown",
   "metadata": {},
   "source": [
    "### Filtering by included articles"
   ]
  },
  {
   "cell_type": "code",
   "execution_count": 8,
   "metadata": {},
   "outputs": [
    {
     "name": "stdout",
     "output_type": "stream",
     "text": [
      "Returned 1 record(s) matching 1 record(s) out of 5804 in total:\n",
      "1: 10-Year Comparative Follow-up of Familial versus Multifactorial Chylomicronemia Syndromes.\n",
      "    Authors: Belhassen M, Van Ganse E, Nolin M, Bérard M, Bada H, Bruckert E, Krempf M, Rebours V, Valero R, Moulin P\n"
     ]
    }
   ],
   "source": [
    "result_params = {\n",
    "    \"start\": 0,\n",
    "    \"length\": 20,\n",
    "    \"extra[mode]\": \"included\"\n",
    "}\n",
    "included_results = rayyan_review.results(review_id, result_params)\n",
    "print(f'Returned {len(included_results[\"data\"])} record(s) matching {included_results[\"recordsFiltered\"]} record(s) out of {included_results[\"recordsTotal\"]} in total:')\n",
    "for index, result in enumerate(included_results['data']):\n",
    "    print(f'{index+1}: {result[\"title\"]}')\n",
    "    print(f'    Authors: {\", \".join(result[\"authors\"])}')\n"
   ]
  },
  {
   "cell_type": "markdown",
   "metadata": {},
   "source": [
    "### Excluding the next 5 articles"
   ]
  },
  {
   "cell_type": "code",
   "execution_count": 9,
   "metadata": {},
   "outputs": [
    {
     "name": "stdout",
     "output_type": "stream",
     "text": [
      "Excluding article 776311...\n",
      "Excluding article 774908...\n",
      "Excluding article 773192...\n",
      "Excluding article 775073...\n",
      "Excluding article 775228...\n",
      "Excluded 5 articles from review 2755.\n"
     ]
    }
   ],
   "source": [
    "my_articles = review_results['data'][1:6]\n",
    "customization_plan = {\n",
    "    \"included\": -1\n",
    "}\n",
    "for article in my_articles:\n",
    "    article_id = article['id']\n",
    "    print(f'Excluding article {article_id}...')\n",
    "    rayyan_review.customize(review_id, article_id, customization_plan)\n",
    "print(f'Excluded {len(my_articles)} articles from review {review_id}.')"
   ]
  },
  {
   "cell_type": "markdown",
   "metadata": {},
   "source": [
    "### Excluding the next 5 articles in bluk"
   ]
  },
  {
   "cell_type": "code",
   "execution_count": 10,
   "metadata": {},
   "outputs": [
    {
     "data": {
      "text/plain": [
       "{'missed_etags': {'inclusions_etag': '2023-09-07 11:16:41 UTC'},\n",
       " 'new_etags': {'inclusions_etag': '2023-09-07 11:16:41 UTC',\n",
       "  'labels_etag': ''},\n",
       " 'customization_ids': [306, 307, 308]}"
      ]
     },
     "execution_count": 10,
     "metadata": {},
     "output_type": "execute_result"
    }
   ],
   "source": [
    "my_articles = review_results['data'][7:10]\n",
    "rayyan_review.bulk_customizations(review_id, \"included\", -1, (\",\").join(map(str,[a['id'] for a in my_articles])))"
   ]
  },
  {
   "cell_type": "markdown",
   "metadata": {},
   "source": [
    "### Getting the inclusion counts facet for the review"
   ]
  },
  {
   "cell_type": "code",
   "execution_count": 11,
   "metadata": {},
   "outputs": [
    {
     "name": "stdout",
     "output_type": "stream",
     "text": [
      "{'inclusion_counts': {'collection': [], 'has_evenmore': False, 'more': []}}\n"
     ]
    }
   ],
   "source": [
    "facet_params = {\n",
    "    \"facets[inclusion_counts]\": \"1\"\n",
    "}\n",
    "facet_info = rayyan_review.facets(review_id, facet_params)\n",
    "pprint(facet_info)"
   ]
  },
  {
   "cell_type": "markdown",
   "metadata": {},
   "source": [
    "### Get `inclusion_decisions`, and `labels` Customizations for a first 15 articles sorted by title"
   ]
  },
  {
   "cell_type": "code",
   "execution_count": 12,
   "metadata": {},
   "outputs": [
    {
     "name": "stdout",
     "output_type": "stream",
     "text": [
      "[{'_id': 265,\n",
      "  'article_id': 776311,\n",
      "  'created_at': '2023-09-06T13:14:04.274Z',\n",
      "  'key': 'included',\n",
      "  'user_id': 266,\n",
      "  'value': '0'},\n",
      " {'_id': 266,\n",
      "  'article_id': 776311,\n",
      "  'created_at': '2023-09-06T13:15:27.271Z',\n",
      "  'key': 'included',\n",
      "  'user_id': 266,\n",
      "  'value': '1'},\n",
      " {'_id': 267,\n",
      "  'article_id': 776311,\n",
      "  'created_at': '2023-09-06T13:15:55.944Z',\n",
      "  'key': 'included',\n",
      "  'user_id': 266,\n",
      "  'value': '-1'},\n",
      " {'_id': 268,\n",
      "  'article_id': 774908,\n",
      "  'created_at': '2023-09-06T13:15:56.046Z',\n",
      "  'key': 'included',\n",
      "  'user_id': 266,\n",
      "  'value': '-1'},\n",
      " {'_id': 269,\n",
      "  'article_id': 773192,\n",
      "  'created_at': '2023-09-06T13:15:56.196Z',\n",
      "  'key': 'included',\n",
      "  'user_id': 266,\n",
      "  'value': '-1'}]\n"
     ]
    }
   ],
   "source": [
    "customization_params = {\n",
    "    \"types[]\": [\"inclusion_decisions\", \"labels\"]\n",
    "}\n",
    "\n",
    "pprint(rayyan_review.get_customizations(review_id, customization_params))"
   ]
  },
  {
   "cell_type": "markdown",
   "metadata": {},
   "source": [
    "### Invite Collaborator to the review"
   ]
  },
  {
   "cell_type": "code",
   "execution_count": 14,
   "metadata": {},
   "outputs": [
    {
     "name": "stdout",
     "output_type": "stream",
     "text": [
      "''\n"
     ]
    }
   ],
   "source": [
    "from rayyan.review_access import ReviewAccess\n",
    "review_access_instance = ReviewAccess(rayyan)\n",
    "\n",
    "invite_confirmation = review_access_instance.invite(review_id, 2, [\"user3@example.com\"], \"Collaboration on data analysis.\")\n",
    "pprint(invite_confirmation)\n"
   ]
  },
  {
   "cell_type": "markdown",
   "metadata": {},
   "source": [
    "### Change collaborator to a viewer"
   ]
  },
  {
   "cell_type": "code",
   "execution_count": 15,
   "metadata": {},
   "outputs": [
    {
     "name": "stdout",
     "output_type": "stream",
     "text": [
      "''\n"
     ]
    }
   ],
   "source": [
    "invite_confirmation = review_access_instance.update_access(review_id, 3, [\"user3@example.com\"])\n",
    "pprint(invite_confirmation)\n"
   ]
  },
  {
   "cell_type": "markdown",
   "metadata": {},
   "source": [
    "### Revoke viewer access"
   ]
  },
  {
   "cell_type": "code",
   "execution_count": 16,
   "metadata": {},
   "outputs": [
    {
     "name": "stdout",
     "output_type": "stream",
     "text": [
      "''\n"
     ]
    }
   ],
   "source": [
    "# invite_confirmation = review_access_instance.update_access(review_id, 3, [\"user3@example.com\"])\n",
    "# pprint(invite_confirmation)\n",
    "my_review_json = rayyan_review.get(review_id)\n",
    "viewr_id = my_review_json['viewers'][0]['id']\n",
    "\n",
    "pprint(review_access_instance.revoke(review_id, viewr_id))\n"
   ]
  },
  {
   "cell_type": "markdown",
   "metadata": {},
   "source": [
    "### Restore viewer access"
   ]
  },
  {
   "cell_type": "code",
   "execution_count": 17,
   "metadata": {},
   "outputs": [
    {
     "name": "stdout",
     "output_type": "stream",
     "text": [
      "''\n",
      "594\n"
     ]
    }
   ],
   "source": [
    "pprint(review_access_instance.restore(review_id, viewr_id))\n",
    "pprint(viewr_id)"
   ]
  },
  {
   "cell_type": "markdown",
   "metadata": {},
   "source": [
    "### Delete viewer access"
   ]
  },
  {
   "cell_type": "code",
   "execution_count": 18,
   "metadata": {},
   "outputs": [
    {
     "name": "stdout",
     "output_type": "stream",
     "text": [
      "''\n"
     ]
    }
   ],
   "source": [
    "pprint(review_access_instance.delete_access(review_id, viewr_id))"
   ]
  },
  {
   "cell_type": "markdown",
   "metadata": {},
   "source": [
    "## Notes"
   ]
  },
  {
   "cell_type": "markdown",
   "metadata": {},
   "source": [
    "### Create note"
   ]
  },
  {
   "cell_type": "code",
   "execution_count": 36,
   "metadata": {},
   "outputs": [
    {
     "name": "stdout",
     "output_type": "stream",
     "text": [
      "Added a note to article: 18FDG-positron emission tomography in pancreatic cancer. \n",
      "Note id: 2529\n"
     ]
    }
   ],
   "source": [
    "from rayyan.notes import Notes\n",
    "\n",
    "notes_instance = Notes(rayyan)\n",
    "note_id = notes_instance.create_note(review_id, my_articles[0]['id'], text=\"This article needs further analysis.\")\n",
    "print(f'Added a note to article: {my_articles[0][\"title\"]} \\nNote id: {note_id}')\n"
   ]
  },
  {
   "cell_type": "markdown",
   "metadata": {},
   "source": [
    "### Update Note"
   ]
  },
  {
   "cell_type": "code",
   "execution_count": 37,
   "metadata": {},
   "outputs": [
    {
     "name": "stdout",
     "output_type": "stream",
     "text": [
      "{'status': 'OK'}\n"
     ]
    }
   ],
   "source": [
    "response = notes_instance.update_note(review_id, my_articles[0]['id'], note_id, text=\"UPDATED This article needs further analysis.\")\n",
    "print(response)\n"
   ]
  },
  {
   "cell_type": "markdown",
   "metadata": {},
   "source": [
    "### Delete Note"
   ]
  },
  {
   "cell_type": "code",
   "execution_count": 39,
   "metadata": {},
   "outputs": [
    {
     "ename": "HTTPError",
     "evalue": "404 Client Error: Not Found for url: https://staging.rayyan.ai/api/v1/reviews/2755/articles/775039/notes/2529",
     "output_type": "error",
     "traceback": [
      "\u001b[0;31m---------------------------------------------------------------------------\u001b[0m",
      "\u001b[0;31mHTTPError\u001b[0m                                 Traceback (most recent call last)",
      "Cell \u001b[0;32mIn[39], line 1\u001b[0m\n\u001b[0;32m----> 1\u001b[0m response \u001b[39m=\u001b[39m notes_instance\u001b[39m.\u001b[39;49mdelete_note(review_id, my_articles[\u001b[39m0\u001b[39;49m][\u001b[39m'\u001b[39;49m\u001b[39mid\u001b[39;49m\u001b[39m'\u001b[39;49m], note_id)\n\u001b[1;32m      2\u001b[0m \u001b[39mprint\u001b[39m(response)\n",
      "File \u001b[0;32m~/rayyan/rayyan-api-py/rayyan/notes.py:33\u001b[0m, in \u001b[0;36mNotes.delete_note\u001b[0;34m(self, review_id, article_id, note_id)\u001b[0m\n\u001b[1;32m     32\u001b[0m \u001b[39mdef\u001b[39;00m \u001b[39mdelete_note\u001b[39m(\u001b[39mself\u001b[39m, review_id: \u001b[39mint\u001b[39m, article_id: \u001b[39mint\u001b[39m, note_id: \u001b[39mint\u001b[39m) \u001b[39m-\u001b[39m\u001b[39m>\u001b[39m \u001b[39mdict\u001b[39m:\n\u001b[0;32m---> 33\u001b[0m     \u001b[39mreturn\u001b[39;00m \u001b[39mself\u001b[39;49m\u001b[39m.\u001b[39;49m__rayyan__\u001b[39m.\u001b[39;49mrequest\u001b[39m.\u001b[39;49mrequest_handler(\n\u001b[1;32m     34\u001b[0m         method\u001b[39m=\u001b[39;49m\u001b[39m\"\u001b[39;49m\u001b[39mDELETE\u001b[39;49m\u001b[39m\"\u001b[39;49m,\n\u001b[1;32m     35\u001b[0m         path\u001b[39m=\u001b[39;49m\u001b[39mf\u001b[39;49m\u001b[39m\"\u001b[39;49m\u001b[39m{\u001b[39;49;00mREVIEWS_ROUTE\u001b[39m}\u001b[39;49;00m\u001b[39m/\u001b[39;49m\u001b[39m{\u001b[39;49;00mreview_id\u001b[39m}\u001b[39;49;00m\u001b[39m/articles/\u001b[39;49m\u001b[39m{\u001b[39;49;00marticle_id\u001b[39m}\u001b[39;49;00m\u001b[39m/notes/\u001b[39;49m\u001b[39m{\u001b[39;49;00mnote_id\u001b[39m}\u001b[39;49;00m\u001b[39m\"\u001b[39;49m,\n\u001b[1;32m     36\u001b[0m     )\n",
      "File \u001b[0;32m~/rayyan/rayyan-api-py/rayyan/request.py:86\u001b[0m, in \u001b[0;36mRequest.request_handler\u001b[0;34m(self, path, files, method, headers, payload, params, body_type)\u001b[0m\n\u001b[1;32m     84\u001b[0m prepared_request \u001b[39m=\u001b[39m session\u001b[39m.\u001b[39mprepare_request(request)\n\u001b[1;32m     85\u001b[0m response \u001b[39m=\u001b[39m session\u001b[39m.\u001b[39msend(prepared_request)\n\u001b[0;32m---> 86\u001b[0m \u001b[39mreturn\u001b[39;00m \u001b[39mself\u001b[39;49m\u001b[39m.\u001b[39;49m_response_handler(response, session, prepared_request)\n",
      "File \u001b[0;32m~/rayyan/rayyan-api-py/rayyan/request.py:44\u001b[0m, in \u001b[0;36mRequest._response_handler\u001b[0;34m(self, response, session, prepared_request)\u001b[0m\n\u001b[1;32m     41\u001b[0m \u001b[39mif\u001b[39;00m code \u001b[39m>\u001b[39m\u001b[39m=\u001b[39m \u001b[39m200\u001b[39m \u001b[39mand\u001b[39;00m code \u001b[39m<\u001b[39m\u001b[39m=\u001b[39m \u001b[39m299\u001b[39m:\n\u001b[1;32m     42\u001b[0m     \u001b[39mreturn\u001b[39;00m data\n\u001b[0;32m---> 44\u001b[0m response\u001b[39m.\u001b[39;49mraise_for_status()\n\u001b[1;32m     45\u001b[0m reason \u001b[39m=\u001b[39m response\u001b[39m.\u001b[39mreason\n\u001b[1;32m     46\u001b[0m response_body: Dict[\u001b[39mstr\u001b[39m, Union[\u001b[39mint\u001b[39m, \u001b[39mstr\u001b[39m, Dict[\u001b[39mstr\u001b[39m, \u001b[39mstr\u001b[39m]]] \u001b[39m=\u001b[39m {\n\u001b[1;32m     47\u001b[0m     \u001b[39m\"\u001b[39m\u001b[39mcode\u001b[39m\u001b[39m\"\u001b[39m: code,\n\u001b[1;32m     48\u001b[0m     \u001b[39m\"\u001b[39m\u001b[39mmessage\u001b[39m\u001b[39m\"\u001b[39m: reason,\n\u001b[1;32m     49\u001b[0m     \u001b[39m\"\u001b[39m\u001b[39mdata\u001b[39m\u001b[39m\"\u001b[39m: data,\n\u001b[1;32m     50\u001b[0m }\n",
      "File \u001b[0;32m~/rayyan/rayyan-api-py/.venv/lib/python3.8/site-packages/requests/models.py:1021\u001b[0m, in \u001b[0;36mResponse.raise_for_status\u001b[0;34m(self)\u001b[0m\n\u001b[1;32m   1016\u001b[0m     http_error_msg \u001b[39m=\u001b[39m (\n\u001b[1;32m   1017\u001b[0m         \u001b[39mf\u001b[39m\u001b[39m\"\u001b[39m\u001b[39m{\u001b[39;00m\u001b[39mself\u001b[39m\u001b[39m.\u001b[39mstatus_code\u001b[39m}\u001b[39;00m\u001b[39m Server Error: \u001b[39m\u001b[39m{\u001b[39;00mreason\u001b[39m}\u001b[39;00m\u001b[39m for url: \u001b[39m\u001b[39m{\u001b[39;00m\u001b[39mself\u001b[39m\u001b[39m.\u001b[39murl\u001b[39m}\u001b[39;00m\u001b[39m\"\u001b[39m\n\u001b[1;32m   1018\u001b[0m     )\n\u001b[1;32m   1020\u001b[0m \u001b[39mif\u001b[39;00m http_error_msg:\n\u001b[0;32m-> 1021\u001b[0m     \u001b[39mraise\u001b[39;00m HTTPError(http_error_msg, response\u001b[39m=\u001b[39m\u001b[39mself\u001b[39m)\n",
      "\u001b[0;31mHTTPError\u001b[0m: 404 Client Error: Not Found for url: https://staging.rayyan.ai/api/v1/reviews/2755/articles/775039/notes/2529"
     ]
    }
   ],
   "source": [
    "response = notes_instance.delete_note(review_id, my_articles[0]['id'], note_id)\n",
    "print(response)\n"
   ]
  },
  {
   "cell_type": "markdown",
   "metadata": {},
   "source": [
    "## ThirdPartyAuth"
   ]
  },
  {
   "cell_type": "markdown",
   "metadata": {},
   "source": [
    "### Get ThirdPartyAuth link"
   ]
  },
  {
   "cell_type": "code",
   "execution_count": 22,
   "metadata": {},
   "outputs": [
    {
     "name": "stdout",
     "output_type": "stream",
     "text": [
      "{'code': 302,\n",
      " 'data': {'redirect_to': 'https://api.mendeley.com/oauth/authorize?client_id=14062&redirect_uri=https%3A%2F%2Fstaging.rayyan.ai%2Fthird_party_auth%2Fmendeley_callback&response_type=code&scope=all'},\n",
      " 'message': 'Found'}\n"
     ]
    }
   ],
   "source": [
    "from rayyan.third_party_auth import ThirdPartyAuth\n",
    "from rayyan.conf import MENDELEY\n",
    "\n",
    "third_party_auth_instance = ThirdPartyAuth(rayyan, MENDELEY)\n",
    "auth_link = third_party_auth_instance.get_auth_link()\n",
    "pprint(auth_link)"
   ]
  },
  {
   "cell_type": "markdown",
   "metadata": {},
   "source": [
    "## Highlights"
   ]
  },
  {
   "cell_type": "markdown",
   "metadata": {},
   "source": [
    "### Create Highlight"
   ]
  },
  {
   "cell_type": "code",
   "execution_count": 41,
   "metadata": {},
   "outputs": [
    {
     "name": "stdout",
     "output_type": "stream",
     "text": [
      "OK\n"
     ]
    }
   ],
   "source": [
    "from rayyan.highlight import Highlight\n",
    "\n",
    "highlight_instance = Highlight(rayyan)\n",
    "highlight_data = highlight_instance.create_highlight(review_id, category_id=1, keyword=\"important term\")\n",
    "print(highlight_data)\n"
   ]
  },
  {
   "cell_type": "markdown",
   "metadata": {},
   "source": [
    "## Duplicates\n",
    "### Trigger dedup job for the review"
   ]
  },
  {
   "cell_type": "code",
   "execution_count": 46,
   "metadata": {},
   "outputs": [
    {
     "data": {
      "text/plain": [
       "{'triggered': True, 'reason': None}"
      ]
     },
     "execution_count": 46,
     "metadata": {},
     "output_type": "execute_result"
    }
   ],
   "source": [
    "from rayyan.duplicates import Duplicates\n",
    "\n",
    "duplicates_instance = Duplicates(rayyan)\n",
    "\n",
    "duplicates_instance.add_duplicate(review_id)\n"
   ]
  },
  {
   "cell_type": "code",
   "execution_count": 47,
   "metadata": {},
   "outputs": [
    {
     "data": {
      "text/plain": [
       "[]"
      ]
     },
     "execution_count": 47,
     "metadata": {},
     "output_type": "execute_result"
    }
   ],
   "source": [
    "duplicates_instance.get_duplicate(review_id,my_articles[0]['id'])\n"
   ]
  }
 ],
 "metadata": {
  "kernelspec": {
   "display_name": "Python 3",
   "language": "python",
   "name": "python3"
  },
  "language_info": {
   "codemirror_mode": {
    "name": "ipython",
    "version": 3
   },
   "file_extension": ".py",
   "mimetype": "text/x-python",
   "name": "python",
   "nbconvert_exporter": "python",
   "pygments_lexer": "ipython3",
   "version": "3.8.10"
  },
  "orig_nbformat": 4
 },
 "nbformat": 4,
 "nbformat_minor": 2
}
